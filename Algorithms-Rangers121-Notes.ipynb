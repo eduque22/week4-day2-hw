{
 "cells": [
  {
   "cell_type": "markdown",
   "metadata": {},
   "source": [
    "# Algorithms and Time Complexity"
   ]
  },
  {
   "cell_type": "markdown",
   "metadata": {},
   "source": [
    "## Tasks Today:\n",
    " \n",
    "1) <b>In-Place Algorithms</b> <br>\n",
    " &nbsp;&nbsp;&nbsp;&nbsp; a) Syntax <br>\n",
    " &nbsp;&nbsp;&nbsp;&nbsp; a) Out of Place Algorithm <br>\n",
    " &nbsp;&nbsp;&nbsp;&nbsp; b) In-Class Exercise #1 <br>\n",
    "2) <b>Two Pointers</b> <br>\n",
    "3) <b>Linked Lists</b> <br>\n",
    "4) <b>Merge Sort</b> <br>\n",
    " &nbsp;&nbsp;&nbsp;&nbsp; a) Video on Algorithms <br>\n",
    " &nbsp;&nbsp;&nbsp;&nbsp; b) How it Works <br>\n",
    "5) <b>Exercises</b> <br>\n",
    " &nbsp;&nbsp;&nbsp;&nbsp; a) Exercise #1 - Reverse a List in Place Using an In-Place Algorithm <br>\n",
    " &nbsp;&nbsp;&nbsp;&nbsp; b) Exercise #2 - Find Distinct Words <br>\n",
    " &nbsp;&nbsp;&nbsp;&nbsp; c) Exercise #3 - Write a program to implement a Linear Search Algorithm. <br>"
   ]
  },
  {
   "cell_type": "markdown",
   "metadata": {},
   "source": [
    "## In-Place Algorithms"
   ]
  },
  {
   "cell_type": "markdown",
   "metadata": {},
   "source": [
    "#### Syntax"
   ]
  },
  {
   "cell_type": "code",
   "execution_count": 10,
   "metadata": {},
   "outputs": [
    {
     "name": "stdout",
     "output_type": "stream",
     "text": [
      "Before Swap: [10, 20]\n",
      "After Swap: [20, 10]\n"
     ]
    }
   ],
   "source": [
    "#swap locations by index in a list\n",
    "#sometimes known as a swap algorithm\n",
    "# arr[i], arr[i+1] = arr[i+1], arr[i]\n",
    "\n",
    "def swap(alist, x, y):\n",
    "    alist[x], alist[y] = alist[y], alist[x]\n",
    "    return alist\n",
    "\n",
    "my_list = [10,20]\n",
    "print(f'Before Swap: {my_list}')\n",
    "swap(my_list, 0, 1)\n",
    "print(f'After Swap: {my_list}')"
   ]
  },
  {
   "cell_type": "markdown",
   "metadata": {},
   "source": [
    "#### Out of Place Algorithm"
   ]
  },
  {
   "cell_type": "code",
   "execution_count": 14,
   "metadata": {},
   "outputs": [
    {
     "name": "stdout",
     "output_type": "stream",
     "text": [
      "[1, 2, 3, 4, 5]\n",
      "[5, 4, 3, 2, 1]\n",
      "['a', 'a', 'a', 'a']\n",
      "Before: ['a', 'a', 'a', 'a']\n",
      "After: ['d', 'c', 'b', 'a']\n"
     ]
    }
   ],
   "source": [
    "# not swapping, reversing the list\n",
    "# But also copies to another place in memory\n",
    "\n",
    "#out of place reverse list copy\n",
    "my_list = [1, 2, 3, 4, 5]\n",
    "my_list2 = my_list[::-1]\n",
    "\n",
    "print(my_list)\n",
    "print(my_list2)\n",
    "\n",
    "array = ['a', 'b', 'c', 'd']\n",
    "new_arr = ['a']*len(array)\n",
    "print(new_arr)\n",
    "print(f'Before: {new_arr}')\n",
    "length = len(array) - 1\n",
    "for i in range(length):\n",
    "    new_arr[i] = array[length-i]\n",
    "    \n",
    "array = new_arr\n",
    "print(f'After: {array}')\n",
    "\n",
    "#sorted() create space for a new, sorted list\n"
   ]
  },
  {
   "cell_type": "markdown",
   "metadata": {},
   "source": [
    "#### In-Class Exercise #1 <br>\n",
    "<p>Write a function that takes in four arguments (list, index1, index2, index3), and swaps those three positions in the list passed in.</p>"
   ]
  },
  {
   "cell_type": "code",
   "execution_count": 15,
   "metadata": {},
   "outputs": [
    {
     "name": "stdout",
     "output_type": "stream",
     "text": [
      "Before: [2, 22, 4, 88]\n",
      "After: [4, 2, 88, 22]\n"
     ]
    }
   ],
   "source": [
    "def swaps4(arr, w, x, y, z):\n",
    "    arr[w], arr[x], arr[y], arr[z] = arr[y], arr[w], arr[z], arr[x]\n",
    "    return arr\n",
    "\n",
    "the_list = [2, 22, 4, 88]\n",
    "print(f'Before: {the_list}')\n",
    "swaps4(the_list, 0, 1, 2, 3)\n",
    "print(f'After: {the_list}')\n",
    "\n"
   ]
  },
  {
   "cell_type": "markdown",
   "metadata": {},
   "source": [
    "## Two Pointers"
   ]
  },
  {
   "cell_type": "markdown",
   "metadata": {},
   "source": [
    "#### Syntax"
   ]
  },
  {
   "cell_type": "code",
   "execution_count": 19,
   "metadata": {},
   "outputs": [
    {
     "name": "stdout",
     "output_type": "stream",
     "text": [
      "[1, 2, 3, 12, 9, 8, 4, 11, 22]\n",
      "9\n",
      "[22, 11, 4, 8, 9, 12, 3, 2, 1]\n"
     ]
    }
   ],
   "source": [
    "# alist[left], alist[right] = alist[right], alist[left]\n",
    "# use two pointers to swap, can use a while loop in most cases\n",
    "# the list must be sorted\n",
    "\n",
    "my_list = [1,2,3,12,9,8,4,11,22]\n",
    "print(my_list)\n",
    "print(len(my_list))\n",
    "\n",
    "def two_point(alist):\n",
    "    #alist.sort() if you need it to be sorted\n",
    "    #raises the time complexity of function\n",
    "    #create pointers for the list\n",
    "    left = 0 #index 0 left pointer\n",
    "    right = len(alist)- 1 #last index\n",
    "    \n",
    "    while left <= right:\n",
    "        alist[left], alist[right] = alist[right], alist[left]\n",
    "        left += 1\n",
    "        right -= 1\n",
    "    return alist\n",
    "\n",
    "print(two_point(my_list))\n",
    "\n",
    "\n",
    "\n"
   ]
  },
  {
   "cell_type": "markdown",
   "metadata": {},
   "source": [
    "#### Video of Algorithms <br>\n",
    "<p>Watch the video about algorithms.</p>\n",
    "\n",
    "https://www.youtube.com/watch?v=Q9HjeFD62Uk\n",
    "\n",
    "https://www.youtube.com/watch?v=kPRA0W1kECg\n",
    "\n",
    "https://www.youtube.com/watch?v=ZZuD6iUe3Pc"
   ]
  },
  {
   "cell_type": "markdown",
   "metadata": {},
   "source": [
    "# Sorting Algorithms"
   ]
  },
  {
   "cell_type": "code",
   "execution_count": 27,
   "metadata": {},
   "outputs": [],
   "source": [
    "# Time complexity\n",
    "# how many actions have to happen per items it takes as inputs\n"
   ]
  },
  {
   "cell_type": "markdown",
   "metadata": {},
   "source": [
    "#### Bubble Sort\n",
    "\n",
    "Worst Case: O(n^2) Time - O(1) Space"
   ]
  },
  {
   "cell_type": "code",
   "execution_count": 26,
   "metadata": {},
   "outputs": [
    {
     "name": "stdout",
     "output_type": "stream",
     "text": [
      "[100, 88, 22, 55, 44, 1, 34, 66]\n",
      "[1, 22, 34, 44, 55, 66, 88, 100]\n"
     ]
    }
   ],
   "source": [
    "# Best Case Linear\n",
    "# Worst Case Quadratic\n",
    "def swap_team(i, j, array):\n",
    "    array[i], array[j] = array[j], array[i]\n",
    "    \n",
    "def bub_sort(array):\n",
    "    is_sorted = False #<--flag\n",
    "    while not is_sorted:\n",
    "        is_sorted = True\n",
    "        for num in range(len(array) - 1):\n",
    "            if array[num] > array[num + 1]:\n",
    "                swap_team(num, num + 1, array)\n",
    "                is_sorted = False\n",
    "    return array\n",
    "\n",
    "my_array = [100, 88, 22, 55, 44, 1, 34, 66]\n",
    "print(my_array)\n",
    "\n",
    "print(bub_sort(my_array))\n"
   ]
  },
  {
   "cell_type": "markdown",
   "metadata": {},
   "source": [
    "##### Insertion Sort\n",
    "\n",
    "Worst Case: O(n^2) time - O(1)space"
   ]
  },
  {
   "cell_type": "code",
   "execution_count": 31,
   "metadata": {},
   "outputs": [
    {
     "name": "stdout",
     "output_type": "stream",
     "text": [
      "[100, 88, 22, 55, 44, 1, 34, 66]\n",
      "[1, 22, 34, 44, 55, 66, 88, 100]\n"
     ]
    }
   ],
   "source": [
    "def swap_team(i, j, array):\n",
    "    array[i], array[j] = array[j], array[i]\n",
    "    \n",
    "def insersort(array):\n",
    "    for i in range(1, len(array)):#considers index 0 already sorted\n",
    "        #make sure we dont go before index 0\n",
    "        j = i\n",
    "        while j > 0 and array[j] < array[j-1]:\n",
    "            swap_team(j, j-1, array)\n",
    "            j-=1\n",
    "    return array\n",
    "\n",
    "my_array = [100, 88, 22, 55, 44, 1, 34, 66]\n",
    "print(my_array)\n",
    "\n",
    "print(insersort(my_array))\n",
    "            \n",
    "            "
   ]
  },
  {
   "cell_type": "markdown",
   "metadata": {},
   "source": [
    "## Merge Sort"
   ]
  },
  {
   "cell_type": "markdown",
   "metadata": {},
   "source": [
    "#### How it Works"
   ]
  },
  {
   "cell_type": "code",
   "execution_count": 43,
   "metadata": {},
   "outputs": [
    {
     "name": "stdout",
     "output_type": "stream",
     "text": [
      "Splitting: [100, 88, 22, 55, 44, 1, 34, 66]\n",
      "Splitting: [100, 88, 22, 55]\n",
      "Splitting: [100, 88]\n",
      "Splitting: [100]\n",
      "Merging:  [100]\n",
      "Splitting: [88]\n",
      "Merging:  [88]\n",
      "Merging:  [88, 100]\n",
      "Splitting: [22, 55]\n",
      "Splitting: [22]\n",
      "Merging:  [22]\n",
      "Splitting: [55]\n",
      "Merging:  [55]\n",
      "Merging:  [22, 55]\n",
      "Merging:  [22, 55, 88, 100]\n",
      "Splitting: [44, 1, 34, 66]\n",
      "Splitting: [44, 1]\n",
      "Splitting: [44]\n",
      "Merging:  [44]\n",
      "Splitting: [1]\n",
      "Merging:  [1]\n",
      "Merging:  [1, 44]\n",
      "Splitting: [34, 66]\n",
      "Splitting: [34]\n",
      "Merging:  [34]\n",
      "Splitting: [66]\n",
      "Merging:  [66]\n",
      "Merging:  [34, 66]\n",
      "Merging:  [1, 34, 44, 66]\n",
      "Merging:  [1, 22, 34, 44, 55, 66, 88, 100]\n"
     ]
    }
   ],
   "source": [
    "# Step 1: Split Everything into its own group\n",
    "# Step 2: From left to right merge two groups together\n",
    "# Step 3: While merging, place each item in its correct position\n",
    "#within the merged group\n",
    "# Step 4: Repeat step 3 until one group is left\n",
    "from random import randint\n",
    "my_array = [100, 88, 22, 55, 44, 1, 34, 66]\n",
    "nums = [randint(0, 20) for i in range(9)]\n",
    "\n",
    "def merge_sort(alist):\n",
    "    print('Splitting:', alist)\n",
    "    #step1 split everything into its own group\n",
    "    #as equally as possible\n",
    "    if len(alist) > 1:\n",
    "        mid = len(alist) // 2\n",
    "        left_half = alist[:mid]\n",
    "        right_half = alist[mid:]\n",
    "        #recursively call merge_sort to perform\n",
    "        #splits if needed, then merge once done\n",
    "        merge_sort(left_half)\n",
    "        merge_sort(right_half)\n",
    "        #index pointers for list\n",
    "        l = 0 #left half pointer\n",
    "        r = 0 #right half pointer\n",
    "        m = 0 #main array pointer\n",
    "        \n",
    "        #step2 compare the left half with the right\n",
    "        while l < len(left_half) and r < len(right_half):\n",
    "            if left_half[l] < right_half[r]:\n",
    "                alist[m] = left_half[l]\n",
    "                l += 1\n",
    "            else:\n",
    "                alist[m] = right_half[r]\n",
    "                r += 1\n",
    "            m += 1\n",
    "            \n",
    "        #step 3 while mergin, place items in correct position\n",
    "        while l < len(left_half):\n",
    "            alist[m] = left_half[l]\n",
    "            l += 1\n",
    "            m += 1\n",
    "            \n",
    "        while r < len(right_half):\n",
    "            alist[m] = right_half[r]\n",
    "            r += 1\n",
    "            m += 1\n",
    "            \n",
    "    print('Merging: ', alist)\n",
    "merge_sort(my_array)\n",
    "        "
   ]
  },
  {
   "cell_type": "markdown",
   "metadata": {},
   "source": [
    "# Binary Search\n",
    "\n",
    "The Binary Search algorithm works by finding the number in the middle of a given array and comparing it to the target. Given that the array is sorted\n",
    "\n",
    "* The worst case run time for this algorithm is `O(log(n))`"
   ]
  },
  {
   "cell_type": "code",
   "execution_count": 35,
   "metadata": {},
   "outputs": [
    {
     "name": "stdout",
     "output_type": "stream",
     "text": [
      "The index is.. 1\n",
      "The index is.. 3\n"
     ]
    }
   ],
   "source": [
    "# Less goes to the left\n",
    "# Greater goes to the right\n",
    "# List of numbers must be sorted\n",
    "\n",
    "def binsearch(array, target, left, right):\n",
    "    while left < right:\n",
    "        middle = (left + right //2)\n",
    "        potential_match = array[middle]\n",
    "        if target == potential_match:\n",
    "            return f'The index is.. {middle}'\n",
    "        elif target < potential_match:\n",
    "            right = middle - 1\n",
    "        else:\n",
    "            left = middle + 1\n",
    "    return -1\n",
    "\n",
    "def binhelp(array, target):\n",
    "    return binsearch(array, target, 0, len(array) - 1)\n",
    "\n",
    "print(binhelp([1, 22, 34, 44, 55, 66, 88, 100], 22))\n",
    "print(binhelp([1, 22, 34, 44, 55, 66, 88, 100], 44))"
   ]
  },
  {
   "cell_type": "raw",
   "metadata": {},
   "source": [
    "# Exercises"
   ]
  },
  {
   "cell_type": "markdown",
   "metadata": {},
   "source": [
    "### Exercise #1 <br>\n",
    "<p>Reverse the list below in-place using an in-place algorithm.<br>For extra credit: Reverse the strings at the same time.</p>"
   ]
  },
  {
   "cell_type": "code",
   "execution_count": 46,
   "metadata": {},
   "outputs": [
    {
     "name": "stdout",
     "output_type": "stream",
     "text": [
      "['this', 'is', 'a', 'sentence', '.']\n",
      "['.', 'ecnetnes', 'a', 'si', 'siht']\n"
     ]
    }
   ],
   "source": [
    "words = ['this' , 'is', 'a', 'sentence', '.']\n",
    "def swap(alist, a, b, c, d, e):\n",
    "    alist[a], alist[b], alist[c], alist[d], alist[e] = alist[e][::-1], alist[d][::-1], alist[c][::-1], alist[b][::-1], alist[a][::-1]\n",
    "    return alist\n",
    "\n",
    "print(words)\n",
    "swap(words, 0, 1, 2, 3, 4)\n",
    "print(words)"
   ]
  },
  {
   "cell_type": "markdown",
   "metadata": {},
   "source": [
    "### Exercise #2 <br>\n",
    "<p>Create a function that counts how many distinct words are in the string below, then outputs a dictionary with the words as the key and the value as the amount of times that word appears in the string.<br>Should output:<br>{'a': 5,<br>\n",
    " 'abstract': 1,<br>\n",
    " 'an': 3,<br>\n",
    " 'array': 2, ... etc...</p>"
   ]
  },
  {
   "cell_type": "code",
   "execution_count": 36,
   "metadata": {},
   "outputs": [
    {
     "name": "stdout",
     "output_type": "stream",
     "text": [
      "{'a': 5, 'abstract': 1, 'an': 3, 'array': 2, 'associative': 1, 'be': 1, 'buckets': 1, 'can': 2, 'compute': 1, 'computing,': 1, 'data': 2, 'desired': 1, 'found': 1, 'from': 1, 'function': 1, 'hash': 4, 'implements': 1, 'in': 1, 'index': 1, 'into': 1, 'is': 1, 'keys': 1, 'map': 2, 'of': 1, 'or': 1, 'slots': 1, 'structure': 2, 'table': 2, 'that': 1, 'the': 1, 'to': 2, 'type,': 1, 'uses': 1, 'value': 1, 'values.': 1, 'which': 2}\n"
     ]
    }
   ],
   "source": [
    "a_text = 'In computing, a hash table hash map is a data structure which implements an associative array abstract data type, a structure that can map keys to values. A hash table uses a hash function to compute an index into an array of buckets or slots from which the desired value can be found'\n",
    "\n",
    "def countitup(string):\n",
    "    wordc = {}\n",
    "    new1 = sorted(string.lower().split(' '))\n",
    "    for word in new1:\n",
    "        if word not in wordc:\n",
    "            wordc[word] = 1\n",
    "        else:\n",
    "            wordc[word] += 1\n",
    "    return wordc\n",
    "\n",
    "print(countitup(a_text))\n"
   ]
  },
  {
   "cell_type": "markdown",
   "metadata": {},
   "source": [
    "## Exercise #3\n",
    "\n",
    "<p>Use binary search to return the index of the target num</p>\n",
    "\n"
   ]
  },
  {
   "cell_type": "code",
   "execution_count": 52,
   "metadata": {},
   "outputs": [
    {
     "name": "stdout",
     "output_type": "stream",
     "text": [
      "The index is.. 7\n"
     ]
    }
   ],
   "source": [
    "cool_list = [2, 5, 6, 12, 45, 47, 98, 123, 1000]\n",
    "target = 123\n",
    "\n",
    "def binsearch(array, target, left, right):\n",
    "    while left < right:\n",
    "        middle = (left + right) // 2\n",
    "        potential_match = array[middle]\n",
    "        if target == potential_match:\n",
    "            return f'The index is.. {middle}'\n",
    "        elif target < potential_match:\n",
    "            right = middle - 1\n",
    "        else:\n",
    "            left = middle + 1\n",
    "    return -1\n",
    "\n",
    "def binhelp(array, target):\n",
    "    return binsearch(array, target, 0, len(array) - 1)\n",
    "\n",
    "print(binhelp(cool_list, 123))\n"
   ]
  },
  {
   "cell_type": "code",
   "execution_count": null,
   "metadata": {},
   "outputs": [],
   "source": []
  }
 ],
 "metadata": {
  "kernelspec": {
   "display_name": "Python 3 (ipykernel)",
   "language": "python",
   "name": "python3"
  },
  "language_info": {
   "codemirror_mode": {
    "name": "ipython",
    "version": 3
   },
   "file_extension": ".py",
   "mimetype": "text/x-python",
   "name": "python",
   "nbconvert_exporter": "python",
   "pygments_lexer": "ipython3",
   "version": "3.9.7"
  }
 },
 "nbformat": 4,
 "nbformat_minor": 2
}
